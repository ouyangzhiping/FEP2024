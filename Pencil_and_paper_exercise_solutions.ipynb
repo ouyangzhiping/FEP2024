{
 "cells": [
  {
   "cell_type": "code",
   "execution_count": 1,
   "id": "60c31a4b-a309-433e-88c1-239e8644a3c6",
   "metadata": {},
   "outputs": [],
   "source": [
    "import numpy as np\n",
    "from utility.math_utils import nat_log\n",
    "\n",
    "\n",
    "# Static perception\n",
    "def static_perception():\n",
    "    # priors\n",
    "    D = np.array([0.75, 0.25])\n",
    "\n",
    "    # likelihood mapping\n",
    "    A = np.array([[0.8, 0.2],\n",
    "                  [0.2, 0.8]])\n",
    "\n",
    "    # observations\n",
    "    o = np.array([1, 0])\n",
    "\n",
    "    # express generative model in terms of update equations\n",
    "    lns = nat_log(D) + nat_log(A.T @ o)\n",
    "\n",
    "    # normalize using a softmax function to find posterior\n",
    "    s = np.exp(lns) / np.sum(np.exp(lns))\n",
    "\n",
    "    print('Posterior over states q(s):')\n",
    "    print(s)\n",
    "\n",
    "# Dynamic perception\n",
    "def dynamic_perception():\n",
    "    # priors\n",
    "    D = np.array([0.5, 0.5])\n",
    "\n",
    "    # likelihood mapping\n",
    "    A = np.array([[0.9, 0.1],\n",
    "                  [0.1, 0.9]])\n",
    "\n",
    "    # transitions\n",
    "    B = np.array([[1, 0],\n",
    "                  [0, 1]])\n",
    "\n",
    "    # observations\n",
    "    o = {\n",
    "        (1, 1): np.array([1, 0]),\n",
    "        (1, 2): np.array([0, 0]),\n",
    "        (2, 1): np.array([1, 0]),\n",
    "        (2, 2): np.array([1, 0])\n",
    "    }\n",
    "\n",
    "    # number of timesteps\n",
    "    T = 2\n",
    "\n",
    "    # initialise posterior\n",
    "    Qs = np.zeros((2, T))\n",
    "    for t in range(T):\n",
    "        Qs[:, t] = np.array([0.5, 0.5])\n",
    "\n",
    "    for t in range(T):\n",
    "        for tau in range(T):\n",
    "            # get correct D and B for each time point\n",
    "            if tau == 0:  # first time point\n",
    "                lnD = nat_log(D)  # past\n",
    "                lnBs = nat_log(B.T @ Qs[:, tau + 1])  # future\n",
    "            elif tau == T - 1:  # last time point\n",
    "                lnBs = nat_log(B.T @ Qs[:, tau - 1])  # no contribution from future\n",
    "\n",
    "            # likelihood\n",
    "            lnAo = nat_log(A.T @ o[(t + 1, tau + 1)])\n",
    "\n",
    "            # update equation\n",
    "            if tau == 0:\n",
    "                lns = 0.5 * lnD + 0.5 * lnBs + lnAo\n",
    "            elif tau == T - 1:\n",
    "                lns = 0.5 * lnBs + lnAo\n",
    "\n",
    "            # normalize using a softmax function to find posterior\n",
    "            Qs[:, tau] = np.exp(lns) / np.sum(np.exp(lns))\n",
    "\n",
    "    print('Posterior over states q(s):')\n",
    "    print(Qs)"
   ]
  },
  {
   "cell_type": "code",
   "execution_count": 2,
   "id": "45deaa05-da8b-49f8-b58c-58346367030a",
   "metadata": {},
   "outputs": [
    {
     "name": "stdout",
     "output_type": "stream",
     "text": [
      "Posterior over states q(s):\n",
      "[0.92307687 0.07692313]\n",
      "Posterior over states q(s):\n",
      "[[0.93971703 0.97262816]\n",
      " [0.06028297 0.02737184]]\n"
     ]
    }
   ],
   "source": [
    "static_perception()\n",
    "dynamic_perception()"
   ]
  },
  {
   "cell_type": "code",
   "execution_count": null,
   "id": "440b0e74-848f-476d-beb4-017fc695747f",
   "metadata": {},
   "outputs": [],
   "source": []
  }
 ],
 "metadata": {
  "kernelspec": {
   "display_name": "Python 3 (ipykernel)",
   "language": "python",
   "name": "python3"
  },
  "language_info": {
   "codemirror_mode": {
    "name": "ipython",
    "version": 3
   },
   "file_extension": ".py",
   "mimetype": "text/x-python",
   "name": "python",
   "nbconvert_exporter": "python",
   "pygments_lexer": "ipython3",
   "version": "3.10.15"
  }
 },
 "nbformat": 4,
 "nbformat_minor": 5
}
